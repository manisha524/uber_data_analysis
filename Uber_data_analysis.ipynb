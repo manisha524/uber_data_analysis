{
  "nbformat": 4,
  "nbformat_minor": 0,
  "metadata": {
    "colab": {
      "name": "Uber_data_analysis.ipynb",
      "provenance": [],
      "collapsed_sections": [],
      "toc_visible": true
    },
    "kernelspec": {
      "name": "python3",
      "display_name": "Python 3"
    },
    "accelerator": "GPU"
  },
  "cells": [
    {
      "cell_type": "code",
      "metadata": {
        "id": "L-4dPy_k6uUU",
        "colab_type": "code",
        "colab": {}
      },
      "source": [
        "import pandas as pd\n",
        "import numpy as np"
      ],
      "execution_count": 0,
      "outputs": []
    },
    {
      "cell_type": "code",
      "metadata": {
        "id": "ht8Hbo8zDS96",
        "colab_type": "code",
        "outputId": "dd1ffe31-aa19-4150-cfbb-822a2e80784f",
        "colab": {
          "base_uri": "https://localhost:8080/",
          "height": 34
        }
      },
      "source": [
        "from google.colab import drive\n",
        "drive.mount('/content/drive')"
      ],
      "execution_count": 0,
      "outputs": [
        {
          "output_type": "stream",
          "text": [
            "Drive already mounted at /content/drive; to attempt to forcibly remount, call drive.mount(\"/content/drive\", force_remount=True).\n"
          ],
          "name": "stdout"
        }
      ]
    },
    {
      "cell_type": "markdown",
      "metadata": {
        "id": "Ld5zrUjSWF0k",
        "colab_type": "text"
      },
      "source": [
        "# New Section"
      ]
    },
    {
      "cell_type": "code",
      "metadata": {
        "id": "TPiT39YbDXAh",
        "colab_type": "code",
        "outputId": "4e4a2e3c-e790-41f4-b91f-1a76c4d28ed3",
        "colab": {
          "base_uri": "https://localhost:8080/",
          "height": 204
        }
      },
      "source": [
        "data = pd.read_csv('drive/My Drive/ml_project/Dataset/uber-raw-data-apr14.csv')\n",
        "data.head()"
      ],
      "execution_count": 0,
      "outputs": [
        {
          "output_type": "execute_result",
          "data": {
            "text/html": [
              "<div>\n",
              "<style scoped>\n",
              "    .dataframe tbody tr th:only-of-type {\n",
              "        vertical-align: middle;\n",
              "    }\n",
              "\n",
              "    .dataframe tbody tr th {\n",
              "        vertical-align: top;\n",
              "    }\n",
              "\n",
              "    .dataframe thead th {\n",
              "        text-align: right;\n",
              "    }\n",
              "</style>\n",
              "<table border=\"1\" class=\"dataframe\">\n",
              "  <thead>\n",
              "    <tr style=\"text-align: right;\">\n",
              "      <th></th>\n",
              "      <th>Date/Time</th>\n",
              "      <th>Lat</th>\n",
              "      <th>Lon</th>\n",
              "      <th>Base</th>\n",
              "    </tr>\n",
              "  </thead>\n",
              "  <tbody>\n",
              "    <tr>\n",
              "      <th>0</th>\n",
              "      <td>4/1/2014 0:11:00</td>\n",
              "      <td>40.7690</td>\n",
              "      <td>-73.9549</td>\n",
              "      <td>B02512</td>\n",
              "    </tr>\n",
              "    <tr>\n",
              "      <th>1</th>\n",
              "      <td>4/1/2014 0:17:00</td>\n",
              "      <td>40.7267</td>\n",
              "      <td>-74.0345</td>\n",
              "      <td>B02512</td>\n",
              "    </tr>\n",
              "    <tr>\n",
              "      <th>2</th>\n",
              "      <td>4/1/2014 0:21:00</td>\n",
              "      <td>40.7316</td>\n",
              "      <td>-73.9873</td>\n",
              "      <td>B02512</td>\n",
              "    </tr>\n",
              "    <tr>\n",
              "      <th>3</th>\n",
              "      <td>4/1/2014 0:28:00</td>\n",
              "      <td>40.7588</td>\n",
              "      <td>-73.9776</td>\n",
              "      <td>B02512</td>\n",
              "    </tr>\n",
              "    <tr>\n",
              "      <th>4</th>\n",
              "      <td>4/1/2014 0:33:00</td>\n",
              "      <td>40.7594</td>\n",
              "      <td>-73.9722</td>\n",
              "      <td>B02512</td>\n",
              "    </tr>\n",
              "  </tbody>\n",
              "</table>\n",
              "</div>"
            ],
            "text/plain": [
              "          Date/Time      Lat      Lon    Base\n",
              "0  4/1/2014 0:11:00  40.7690 -73.9549  B02512\n",
              "1  4/1/2014 0:17:00  40.7267 -74.0345  B02512\n",
              "2  4/1/2014 0:21:00  40.7316 -73.9873  B02512\n",
              "3  4/1/2014 0:28:00  40.7588 -73.9776  B02512\n",
              "4  4/1/2014 0:33:00  40.7594 -73.9722  B02512"
            ]
          },
          "metadata": {
            "tags": []
          },
          "execution_count": 7
        }
      ]
    },
    {
      "cell_type": "code",
      "metadata": {
        "id": "OW5c9lI50Oxz",
        "colab_type": "code",
        "colab": {}
      },
      "source": [
        ""
      ],
      "execution_count": 0,
      "outputs": []
    },
    {
      "cell_type": "code",
      "metadata": {
        "id": "9Q_Veiou0PeE",
        "colab_type": "code",
        "colab": {}
      },
      "source": [
        ""
      ],
      "execution_count": 0,
      "outputs": []
    },
    {
      "cell_type": "code",
      "metadata": {
        "id": "pqtZUer0EB4V",
        "colab_type": "code",
        "outputId": "65d262a6-c3b9-4151-dca9-84b71558f9aa",
        "colab": {
          "base_uri": "https://localhost:8080/",
          "height": 102
        }
      },
      "source": [
        "\n",
        "data.isna().sum()"
      ],
      "execution_count": 0,
      "outputs": [
        {
          "output_type": "execute_result",
          "data": {
            "text/plain": [
              "Date/Time    0\n",
              "Lat          0\n",
              "Lon          0\n",
              "Base         0\n",
              "dtype: int64"
            ]
          },
          "metadata": {
            "tags": []
          },
          "execution_count": 8
        }
      ]
    },
    {
      "cell_type": "code",
      "metadata": {
        "id": "O6y5Cd-nZXUa",
        "colab_type": "code",
        "outputId": "5c217581-0d49-43bb-e701-f393414906be",
        "colab": {
          "base_uri": "https://localhost:8080/",
          "height": 204
        }
      },
      "source": [
        "data['Date/Time'] = pd.to_datetime(data['Date/Time'], format=\"%m/%d/%Y %H:%M:%S\")\n",
        "data['DayOfWeekNum'] = data['Date/Time'].dt.dayofweek\n",
        "data['DayOfWeek'] = data['Date/Time'].dt.day_name()\n",
        "data['MonthDayNum'] = data['Date/Time'].dt.day\n",
        "data['HourOfDay'] = data['Date/Time'].dt.hour\n",
        "data['MinOfDay'] = data['Date/Time'].dt.minute\n",
        "data.head()"
      ],
      "execution_count": 0,
      "outputs": [
        {
          "output_type": "execute_result",
          "data": {
            "text/html": [
              "<div>\n",
              "<style scoped>\n",
              "    .dataframe tbody tr th:only-of-type {\n",
              "        vertical-align: middle;\n",
              "    }\n",
              "\n",
              "    .dataframe tbody tr th {\n",
              "        vertical-align: top;\n",
              "    }\n",
              "\n",
              "    .dataframe thead th {\n",
              "        text-align: right;\n",
              "    }\n",
              "</style>\n",
              "<table border=\"1\" class=\"dataframe\">\n",
              "  <thead>\n",
              "    <tr style=\"text-align: right;\">\n",
              "      <th></th>\n",
              "      <th>Date/Time</th>\n",
              "      <th>Lat</th>\n",
              "      <th>Lon</th>\n",
              "      <th>Base</th>\n",
              "      <th>DayOfWeekNum</th>\n",
              "      <th>DayOfWeek</th>\n",
              "      <th>MonthDayNum</th>\n",
              "      <th>HourOfDay</th>\n",
              "      <th>MinOfDay</th>\n",
              "    </tr>\n",
              "  </thead>\n",
              "  <tbody>\n",
              "    <tr>\n",
              "      <th>0</th>\n",
              "      <td>2014-04-01 00:11:00</td>\n",
              "      <td>40.7690</td>\n",
              "      <td>-73.9549</td>\n",
              "      <td>B02512</td>\n",
              "      <td>1</td>\n",
              "      <td>Tuesday</td>\n",
              "      <td>1</td>\n",
              "      <td>0</td>\n",
              "      <td>11</td>\n",
              "    </tr>\n",
              "    <tr>\n",
              "      <th>1</th>\n",
              "      <td>2014-04-01 00:17:00</td>\n",
              "      <td>40.7267</td>\n",
              "      <td>-74.0345</td>\n",
              "      <td>B02512</td>\n",
              "      <td>1</td>\n",
              "      <td>Tuesday</td>\n",
              "      <td>1</td>\n",
              "      <td>0</td>\n",
              "      <td>17</td>\n",
              "    </tr>\n",
              "    <tr>\n",
              "      <th>2</th>\n",
              "      <td>2014-04-01 00:21:00</td>\n",
              "      <td>40.7316</td>\n",
              "      <td>-73.9873</td>\n",
              "      <td>B02512</td>\n",
              "      <td>1</td>\n",
              "      <td>Tuesday</td>\n",
              "      <td>1</td>\n",
              "      <td>0</td>\n",
              "      <td>21</td>\n",
              "    </tr>\n",
              "    <tr>\n",
              "      <th>3</th>\n",
              "      <td>2014-04-01 00:28:00</td>\n",
              "      <td>40.7588</td>\n",
              "      <td>-73.9776</td>\n",
              "      <td>B02512</td>\n",
              "      <td>1</td>\n",
              "      <td>Tuesday</td>\n",
              "      <td>1</td>\n",
              "      <td>0</td>\n",
              "      <td>28</td>\n",
              "    </tr>\n",
              "    <tr>\n",
              "      <th>4</th>\n",
              "      <td>2014-04-01 00:33:00</td>\n",
              "      <td>40.7594</td>\n",
              "      <td>-73.9722</td>\n",
              "      <td>B02512</td>\n",
              "      <td>1</td>\n",
              "      <td>Tuesday</td>\n",
              "      <td>1</td>\n",
              "      <td>0</td>\n",
              "      <td>33</td>\n",
              "    </tr>\n",
              "  </tbody>\n",
              "</table>\n",
              "</div>"
            ],
            "text/plain": [
              "            Date/Time      Lat      Lon  ... MonthDayNum  HourOfDay MinOfDay\n",
              "0 2014-04-01 00:11:00  40.7690 -73.9549  ...           1          0       11\n",
              "1 2014-04-01 00:17:00  40.7267 -74.0345  ...           1          0       17\n",
              "2 2014-04-01 00:21:00  40.7316 -73.9873  ...           1          0       21\n",
              "3 2014-04-01 00:28:00  40.7588 -73.9776  ...           1          0       28\n",
              "4 2014-04-01 00:33:00  40.7594 -73.9722  ...           1          0       33\n",
              "\n",
              "[5 rows x 9 columns]"
            ]
          },
          "metadata": {
            "tags": []
          },
          "execution_count": 10
        }
      ]
    },
    {
      "cell_type": "code",
      "metadata": {
        "id": "Qt3xhITMc-7N",
        "colab_type": "code",
        "outputId": "5f3435bb-c38e-49d9-91fb-281d3643d0e0",
        "colab": {
          "base_uri": "https://localhost:8080/",
          "height": 297
        }
      },
      "source": [
        "weekday = data.pivot_table(index=['DayOfWeek'],\n",
        "                                  values='Base',\n",
        "                                  aggfunc='count')\n",
        "weekday.head(10)"
      ],
      "execution_count": 0,
      "outputs": [
        {
          "output_type": "execute_result",
          "data": {
            "text/html": [
              "<div>\n",
              "<style scoped>\n",
              "    .dataframe tbody tr th:only-of-type {\n",
              "        vertical-align: middle;\n",
              "    }\n",
              "\n",
              "    .dataframe tbody tr th {\n",
              "        vertical-align: top;\n",
              "    }\n",
              "\n",
              "    .dataframe thead th {\n",
              "        text-align: right;\n",
              "    }\n",
              "</style>\n",
              "<table border=\"1\" class=\"dataframe\">\n",
              "  <thead>\n",
              "    <tr style=\"text-align: right;\">\n",
              "      <th></th>\n",
              "      <th>Base</th>\n",
              "    </tr>\n",
              "    <tr>\n",
              "      <th>DayOfWeek</th>\n",
              "      <th></th>\n",
              "    </tr>\n",
              "  </thead>\n",
              "  <tbody>\n",
              "    <tr>\n",
              "      <th>Friday</th>\n",
              "      <td>90303</td>\n",
              "    </tr>\n",
              "    <tr>\n",
              "      <th>Monday</th>\n",
              "      <td>60861</td>\n",
              "    </tr>\n",
              "    <tr>\n",
              "      <th>Saturday</th>\n",
              "      <td>77218</td>\n",
              "    </tr>\n",
              "    <tr>\n",
              "      <th>Sunday</th>\n",
              "      <td>51251</td>\n",
              "    </tr>\n",
              "    <tr>\n",
              "      <th>Thursday</th>\n",
              "      <td>85067</td>\n",
              "    </tr>\n",
              "    <tr>\n",
              "      <th>Tuesday</th>\n",
              "      <td>91185</td>\n",
              "    </tr>\n",
              "    <tr>\n",
              "      <th>Wednesday</th>\n",
              "      <td>108631</td>\n",
              "    </tr>\n",
              "  </tbody>\n",
              "</table>\n",
              "</div>"
            ],
            "text/plain": [
              "             Base\n",
              "DayOfWeek        \n",
              "Friday      90303\n",
              "Monday      60861\n",
              "Saturday    77218\n",
              "Sunday      51251\n",
              "Thursday    85067\n",
              "Tuesday     91185\n",
              "Wednesday  108631"
            ]
          },
          "metadata": {
            "tags": []
          },
          "execution_count": 11
        }
      ]
    },
    {
      "cell_type": "code",
      "metadata": {
        "id": "Dy_oPcFPjCe0",
        "colab_type": "code",
        "outputId": "f8bbf2a5-9bb2-40b6-c25b-ba89cdfcb880",
        "colab": {
          "base_uri": "https://localhost:8080/",
          "height": 235
        }
      },
      "source": [
        "weekdayAverage= weekday/30\n",
        "weekdayAverage.head()\n"
      ],
      "execution_count": 0,
      "outputs": [
        {
          "output_type": "execute_result",
          "data": {
            "text/html": [
              "<div>\n",
              "<style scoped>\n",
              "    .dataframe tbody tr th:only-of-type {\n",
              "        vertical-align: middle;\n",
              "    }\n",
              "\n",
              "    .dataframe tbody tr th {\n",
              "        vertical-align: top;\n",
              "    }\n",
              "\n",
              "    .dataframe thead th {\n",
              "        text-align: right;\n",
              "    }\n",
              "</style>\n",
              "<table border=\"1\" class=\"dataframe\">\n",
              "  <thead>\n",
              "    <tr style=\"text-align: right;\">\n",
              "      <th></th>\n",
              "      <th>Base</th>\n",
              "    </tr>\n",
              "    <tr>\n",
              "      <th>DayOfWeek</th>\n",
              "      <th></th>\n",
              "    </tr>\n",
              "  </thead>\n",
              "  <tbody>\n",
              "    <tr>\n",
              "      <th>Friday</th>\n",
              "      <td>3010.100000</td>\n",
              "    </tr>\n",
              "    <tr>\n",
              "      <th>Monday</th>\n",
              "      <td>2028.700000</td>\n",
              "    </tr>\n",
              "    <tr>\n",
              "      <th>Saturday</th>\n",
              "      <td>2573.933333</td>\n",
              "    </tr>\n",
              "    <tr>\n",
              "      <th>Sunday</th>\n",
              "      <td>1708.366667</td>\n",
              "    </tr>\n",
              "    <tr>\n",
              "      <th>Thursday</th>\n",
              "      <td>2835.566667</td>\n",
              "    </tr>\n",
              "  </tbody>\n",
              "</table>\n",
              "</div>"
            ],
            "text/plain": [
              "                  Base\n",
              "DayOfWeek             \n",
              "Friday     3010.100000\n",
              "Monday     2028.700000\n",
              "Saturday   2573.933333\n",
              "Sunday     1708.366667\n",
              "Thursday   2835.566667"
            ]
          },
          "metadata": {
            "tags": []
          },
          "execution_count": 12
        }
      ]
    },
    {
      "cell_type": "code",
      "metadata": {
        "id": "wwIXT2oXo_85",
        "colab_type": "code",
        "outputId": "c5625dcf-61b8-445d-a9c9-b81dbea7777e",
        "colab": {
          "base_uri": "https://localhost:8080/",
          "height": 360
        }
      },
      "source": [
        "import matplotlib.pyplot as plt\n",
        "weekdayAverage.plot(kind='bar')\n",
        "plt.ylabel('Average Rides Per Day')\n",
        "plt.title('Average Rides per Day vs Day of Week')"
      ],
      "execution_count": 0,
      "outputs": [
        {
          "output_type": "execute_result",
          "data": {
            "text/plain": [
              "Text(0.5, 1.0, 'Average Rides per Day vs Day of Week')"
            ]
          },
          "metadata": {
            "tags": []
          },
          "execution_count": 13
        },
        {
          "output_type": "display_data",
          "data": {
            "image/png": "[encoded data removed]",
            "text/plain": [
              "<Figure size 432x288 with 1 Axes>"
            ]
          },
          "metadata": {
            "tags": [],
            "needs_background": "light"
          }
        }
      ]
    },
    {
      "cell_type": "code",
      "metadata": {
        "id": "GLdlBVgf3tun",
        "colab_type": "code",
        "outputId": "60147a42-370c-4ce3-9276-a85c170a7e33",
        "colab": {
          "base_uri": "https://localhost:8080/",
          "height": 419
        }
      },
      "source": [
        "df = pd.DataFrame(data)\n",
        "df"
      ],
      "execution_count": 0,
      "outputs": [
        {
          "output_type": "execute_result",
          "data": {
            "text/html": [
              "<div>\n",
              "<style scoped>\n",
              "    .dataframe tbody tr th:only-of-type {\n",
              "        vertical-align: middle;\n",
              "    }\n",
              "\n",
              "    .dataframe tbody tr th {\n",
              "        vertical-align: top;\n",
              "    }\n",
              "\n",
              "    .dataframe thead th {\n",
              "        text-align: right;\n",
              "    }\n",
              "</style>\n",
              "<table border=\"1\" class=\"dataframe\">\n",
              "  <thead>\n",
              "    <tr style=\"text-align: right;\">\n",
              "      <th></th>\n",
              "      <th>Date/Time</th>\n",
              "      <th>Lat</th>\n",
              "      <th>Lon</th>\n",
              "      <th>Base</th>\n",
              "      <th>DayOfWeekNum</th>\n",
              "      <th>DayOfWeek</th>\n",
              "      <th>MonthDayNum</th>\n",
              "      <th>HourOfDay</th>\n",
              "      <th>MinOfDay</th>\n",
              "    </tr>\n",
              "  </thead>\n",
              "  <tbody>\n",
              "    <tr>\n",
              "      <th>0</th>\n",
              "      <td>2014-04-01 00:11:00</td>\n",
              "      <td>40.7690</td>\n",
              "      <td>-73.9549</td>\n",
              "      <td>B02512</td>\n",
              "      <td>1</td>\n",
              "      <td>Tuesday</td>\n",
              "      <td>1</td>\n",
              "      <td>0</td>\n",
              "      <td>11</td>\n",
              "    </tr>\n",
              "    <tr>\n",
              "      <th>1</th>\n",
              "      <td>2014-04-01 00:17:00</td>\n",
              "      <td>40.7267</td>\n",
              "      <td>-74.0345</td>\n",
              "      <td>B02512</td>\n",
              "      <td>1</td>\n",
              "      <td>Tuesday</td>\n",
              "      <td>1</td>\n",
              "      <td>0</td>\n",
              "      <td>17</td>\n",
              "    </tr>\n",
              "    <tr>\n",
              "      <th>2</th>\n",
              "      <td>2014-04-01 00:21:00</td>\n",
              "      <td>40.7316</td>\n",
              "      <td>-73.9873</td>\n",
              "      <td>B02512</td>\n",
              "      <td>1</td>\n",
              "      <td>Tuesday</td>\n",
              "      <td>1</td>\n",
              "      <td>0</td>\n",
              "      <td>21</td>\n",
              "    </tr>\n",
              "    <tr>\n",
              "      <th>3</th>\n",
              "      <td>2014-04-01 00:28:00</td>\n",
              "      <td>40.7588</td>\n",
              "      <td>-73.9776</td>\n",
              "      <td>B02512</td>\n",
              "      <td>1</td>\n",
              "      <td>Tuesday</td>\n",
              "      <td>1</td>\n",
              "      <td>0</td>\n",
              "      <td>28</td>\n",
              "    </tr>\n",
              "    <tr>\n",
              "      <th>4</th>\n",
              "      <td>2014-04-01 00:33:00</td>\n",
              "      <td>40.7594</td>\n",
              "      <td>-73.9722</td>\n",
              "      <td>B02512</td>\n",
              "      <td>1</td>\n",
              "      <td>Tuesday</td>\n",
              "      <td>1</td>\n",
              "      <td>0</td>\n",
              "      <td>33</td>\n",
              "    </tr>\n",
              "    <tr>\n",
              "      <th>...</th>\n",
              "      <td>...</td>\n",
              "      <td>...</td>\n",
              "      <td>...</td>\n",
              "      <td>...</td>\n",
              "      <td>...</td>\n",
              "      <td>...</td>\n",
              "      <td>...</td>\n",
              "      <td>...</td>\n",
              "      <td>...</td>\n",
              "    </tr>\n",
              "    <tr>\n",
              "      <th>564511</th>\n",
              "      <td>2014-04-30 23:22:00</td>\n",
              "      <td>40.7640</td>\n",
              "      <td>-73.9744</td>\n",
              "      <td>B02764</td>\n",
              "      <td>2</td>\n",
              "      <td>Wednesday</td>\n",
              "      <td>30</td>\n",
              "      <td>23</td>\n",
              "      <td>22</td>\n",
              "    </tr>\n",
              "    <tr>\n",
              "      <th>564512</th>\n",
              "      <td>2014-04-30 23:26:00</td>\n",
              "      <td>40.7629</td>\n",
              "      <td>-73.9672</td>\n",
              "      <td>B02764</td>\n",
              "      <td>2</td>\n",
              "      <td>Wednesday</td>\n",
              "      <td>30</td>\n",
              "      <td>23</td>\n",
              "      <td>26</td>\n",
              "    </tr>\n",
              "    <tr>\n",
              "      <th>564513</th>\n",
              "      <td>2014-04-30 23:31:00</td>\n",
              "      <td>40.7443</td>\n",
              "      <td>-73.9889</td>\n",
              "      <td>B02764</td>\n",
              "      <td>2</td>\n",
              "      <td>Wednesday</td>\n",
              "      <td>30</td>\n",
              "      <td>23</td>\n",
              "      <td>31</td>\n",
              "    </tr>\n",
              "    <tr>\n",
              "      <th>564514</th>\n",
              "      <td>2014-04-30 23:32:00</td>\n",
              "      <td>40.6756</td>\n",
              "      <td>-73.9405</td>\n",
              "      <td>B02764</td>\n",
              "      <td>2</td>\n",
              "      <td>Wednesday</td>\n",
              "      <td>30</td>\n",
              "      <td>23</td>\n",
              "      <td>32</td>\n",
              "    </tr>\n",
              "    <tr>\n",
              "      <th>564515</th>\n",
              "      <td>2014-04-30 23:48:00</td>\n",
              "      <td>40.6880</td>\n",
              "      <td>-73.9608</td>\n",
              "      <td>B02764</td>\n",
              "      <td>2</td>\n",
              "      <td>Wednesday</td>\n",
              "      <td>30</td>\n",
              "      <td>23</td>\n",
              "      <td>48</td>\n",
              "    </tr>\n",
              "  </tbody>\n",
              "</table>\n",
              "<p>564516 rows × 9 columns</p>\n",
              "</div>"
            ],
            "text/plain": [
              "                 Date/Time      Lat      Lon  ... MonthDayNum  HourOfDay MinOfDay\n",
              "0      2014-04-01 00:11:00  40.7690 -73.9549  ...           1          0       11\n",
              "1      2014-04-01 00:17:00  40.7267 -74.0345  ...           1          0       17\n",
              "2      2014-04-01 00:21:00  40.7316 -73.9873  ...           1          0       21\n",
              "3      2014-04-01 00:28:00  40.7588 -73.9776  ...           1          0       28\n",
              "4      2014-04-01 00:33:00  40.7594 -73.9722  ...           1          0       33\n",
              "...                    ...      ...      ...  ...         ...        ...      ...\n",
              "564511 2014-04-30 23:22:00  40.7640 -73.9744  ...          30         23       22\n",
              "564512 2014-04-30 23:26:00  40.7629 -73.9672  ...          30         23       26\n",
              "564513 2014-04-30 23:31:00  40.7443 -73.9889  ...          30         23       31\n",
              "564514 2014-04-30 23:32:00  40.6756 -73.9405  ...          30         23       32\n",
              "564515 2014-04-30 23:48:00  40.6880 -73.9608  ...          30         23       48\n",
              "\n",
              "[564516 rows x 9 columns]"
            ]
          },
          "metadata": {
            "tags": []
          },
          "execution_count": 15
        }
      ]
    },
    {
      "cell_type": "code",
      "metadata": {
        "id": "7FZ8rUcF7NNa",
        "colab_type": "code",
        "colab": {
          "base_uri": "https://localhost:8080/",
          "height": 315
        },
        "outputId": "85f9b9c6-8b49-416a-8370-2a2840b99282"
      },
      "source": [
        "Hours = data.pivot_table(index=['HourOfDay'],\n",
        "                                  values='Base',\n",
        "                                  aggfunc='count')\n",
        "\n",
        "Hours.plot(kind='bar')\n",
        "plt.ylabel('Number of Rides')\n",
        "plt.title('Number of Rides vs Hour of Day')"
      ],
      "execution_count": 27,
      "outputs": [
        {
          "output_type": "execute_result",
          "data": {
            "text/plain": [
              "Text(0.5, 1.0, 'Number of Rides vs Hour of Day')"
            ]
          },
          "metadata": {
            "tags": []
          },
          "execution_count": 27
        },
        {
          "output_type": "display_data",
          "data": {
            "image/png": "[encoded data removed]",
            "text/plain": [
              "<Figure size 432x288 with 1 Axes>"
            ]
          },
          "metadata": {
            "tags": [],
            "needs_background": "light"
          }
        }
      ]
    },
    {
      "cell_type": "code",
      "metadata": {
        "id": "pWRTfzr1CwC1",
        "colab_type": "code",
        "colab": {
          "base_uri": "https://localhost:8080/",
          "height": 299
        },
        "outputId": "778b9051-311e-479c-8835-2e1ce845ced1"
      },
      "source": [
        "avgHours = Hours/30\n",
        "avgHours.plot(kind='bar')"
      ],
      "execution_count": 28,
      "outputs": [
        {
          "output_type": "execute_result",
          "data": {
            "text/plain": [
              "<matplotlib.axes._subplots.AxesSubplot at 0x7f3bb41a6e48>"
            ]
          },
          "metadata": {
            "tags": []
          },
          "execution_count": 28
        },
        {
          "output_type": "display_data",
          "data": {
            "image/png": "[encoded data removed]",
            "text/plain": [
              "<Figure size 432x288 with 1 Axes>"
            ]
          },
          "metadata": {
            "tags": [],
            "needs_background": "light"
          }
        }
      ]
    },
    {
      "cell_type": "code",
      "metadata": {
        "id": "MakfATo3EfGv",
        "colab_type": "code",
        "colab": {
          "base_uri": "https://localhost:8080/",
          "height": 315
        },
        "outputId": "1943acb2-2bc9-42e7-bf86-a5f2f8fe7f8d"
      },
      "source": [
        "dayOfMonth = data.pivot_table(index=['MonthDayNum'],\n",
        "                                  values='Base',\n",
        "                                  aggfunc='count')\n",
        "\n",
        "dayOfMonth.plot(kind='bar')\n",
        "plt.ylabel('Number of Rides')\n",
        "plt.title('Number of Rides vs dayOfMonth')"
      ],
      "execution_count": 32,
      "outputs": [
        {
          "output_type": "execute_result",
          "data": {
            "text/plain": [
              "Text(0.5, 1.0, 'Number of Rides vs dayOfMonth')"
            ]
          },
          "metadata": {
            "tags": []
          },
          "execution_count": 32
        },
        {
          "output_type": "display_data",
          "data": {
            "image/png": "[encoded data removed]",
            "text/plain": [
              "<Figure size 432x288 with 1 Axes>"
            ]
          },
          "metadata": {
            "tags": [],
            "needs_background": "light"
          }
        }
      ]
    },
    {
      "cell_type": "code",
      "metadata": {
        "colab_type": "code",
        "id": "XBFRKXSTEyPr",
        "colab": {}
      },
      "source": [
        ""
      ],
      "execution_count": 0,
      "outputs": []
    },
    {
      "cell_type": "code",
      "metadata": {
        "colab_type": "code",
        "id": "z3bFFZwoEy2_",
        "colab": {}
      },
      "source": [
        ""
      ],
      "execution_count": 0,
      "outputs": []
    }
  ]
}